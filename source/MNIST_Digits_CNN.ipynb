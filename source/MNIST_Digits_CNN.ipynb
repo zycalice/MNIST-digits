{
 "cells": [
  {
   "cell_type": "markdown",
   "metadata": {},
   "source": [
    "# MNIST Digits Practice"
   ]
  },
  {
   "cell_type": "markdown",
   "metadata": {},
   "source": [
    "## Set up logger"
   ]
  },
  {
   "cell_type": "code",
   "execution_count": 3,
   "metadata": {},
   "outputs": [],
   "source": [
    "import tensorflow as tf\n",
    "from tensorflow import keras\n",
    "import numpy as np\n",
    "import datetime\n",
    "import scipy.misc \n",
    "import matplotlib.pyplot as plt\n",
    "import os\n",
    "import subprocess\n",
    "\n",
    "try:\n",
    "    from StringIO import StringIO  # Python 2.7\n",
    "except ImportError:\n",
    "    from io import BytesIO         # Python 3.x"
   ]
  },
  {
   "cell_type": "code",
   "execution_count": 4,
   "metadata": {},
   "outputs": [
    {
     "name": "stdout",
     "output_type": "stream",
     "text": [
      "TensorFlow version: 2.3.1\n"
     ]
    }
   ],
   "source": [
    "print('TensorFlow version: {}'.format(tf.__version__))"
   ]
  },
  {
   "cell_type": "code",
   "execution_count": 5,
   "metadata": {},
   "outputs": [],
   "source": [
    "# Code referenced from https://gist.github.com/gyglim/1f8dfb1b5c82627ae3efcfbbadb9f514\n",
    "class Logger(object):\n",
    "    \n",
    "    def __init__(self, log_dir):\n",
    "        \"\"\"Create a summary writer logging to log_dir.\"\"\"\n",
    "        self.writer = tf.summary.create_file_writer(log_dir)\n",
    "\n",
    "    def scalar_summary(self, tag, value, step):\n",
    "        \"\"\"Log a scalar variable.\"\"\"\n",
    "        with self.writer.as_default():\n",
    "            tf.summary.scalar(name=tag, data=value, step=step)\n",
    "        self.writer.flush()\n",
    "\n",
    "    def image_summary(self, tag, images, step):\n",
    "        \"\"\"Log a list of images.\"\"\"\n",
    "\n",
    "        for i, img in enumerate(images):\n",
    "            # Write the image to a string\n",
    "            try:\n",
    "                s = StringIO()\n",
    "            except:\n",
    "                s = BytesIO()\n",
    "            scipy.misc.toimage(img).save(s, format=\"png\")\n",
    "\n",
    "            # Create an Image object as a Summary value\n",
    "            with self.writer.as_default():\n",
    "                tf.summary.image(name='%s/%d' % (tag, i), data=s.getvalue(), step=step)\n",
    "\n",
    "        # Create and write Summary\n",
    "        self.writer.flush()\n",
    "        \n",
    "    def histo_summary(self, tag, values, step, bins=1000):\n",
    "        \"\"\"Log a histogram of the tensor of values.\"\"\"\n",
    "\n",
    "        # Create a histogram using numpy\n",
    "        counts, bin_edges = np.histogram(values, bins=bins)\n",
    "\n",
    "        # Fill the fields of the histogram proto\n",
    "        hist = tf.HistogramProto()\n",
    "        hist.min = float(np.min(values))\n",
    "        hist.max = float(np.max(values))\n",
    "        hist.num = int(np.prod(values.shape))\n",
    "        hist.sum = float(np.sum(values))\n",
    "        hist.sum_squares = float(np.sum(values**2))\n",
    "\n",
    "        # Drop the start of the first bin\n",
    "        bin_edges = bin_edges[1:]\n",
    "\n",
    "        # Add bin edges and counts\n",
    "        for edge in bin_edges:\n",
    "            hist.bucket_limit.append(edge)\n",
    "        for c in counts:\n",
    "            hist.bucket.append(c)\n",
    "\n",
    "        # Create and write Summary\n",
    "        with self.writer.as_default():\n",
    "            tf.summary.histogram(name=tag, data=hist, step=step)\n",
    "        self.writer.flush()"
   ]
  },
  {
   "cell_type": "markdown",
   "metadata": {},
   "source": [
    "## Load Data and Show Examples"
   ]
  },
  {
   "cell_type": "code",
   "execution_count": 2,
   "metadata": {},
   "outputs": [],
   "source": [
    "import torch\n",
    "import torchvision\n",
    "from torchvision import datasets, transforms"
   ]
  },
  {
   "cell_type": "code",
   "execution_count": 6,
   "metadata": {},
   "outputs": [
    {
     "name": "stdout",
     "output_type": "stream",
     "text": [
      "Downloading http://fashion-mnist.s3-website.eu-central-1.amazonaws.com/train-images-idx3-ubyte.gz to /Users/yuchen.zhang/.pytorch/F_MNIST_data/FashionMNIST/raw/train-images-idx3-ubyte.gz\n"
     ]
    },
    {
     "data": {
      "application/vnd.jupyter.widget-view+json": {
       "model_id": "5e7a36f5052343cf92bdfc2fa08c2024",
       "version_major": 2,
       "version_minor": 0
      },
      "text/plain": [
       "HBox(children=(FloatProgress(value=1.0, bar_style='info', max=1.0), HTML(value='')))"
      ]
     },
     "metadata": {},
     "output_type": "display_data"
    },
    {
     "name": "stdout",
     "output_type": "stream",
     "text": [
      "Extracting /Users/yuchen.zhang/.pytorch/F_MNIST_data/FashionMNIST/raw/train-images-idx3-ubyte.gz to /Users/yuchen.zhang/.pytorch/F_MNIST_data/FashionMNIST/raw\n",
      "Downloading http://fashion-mnist.s3-website.eu-central-1.amazonaws.com/train-labels-idx1-ubyte.gz to /Users/yuchen.zhang/.pytorch/F_MNIST_data/FashionMNIST/raw/train-labels-idx1-ubyte.gz\n"
     ]
    },
    {
     "data": {
      "application/vnd.jupyter.widget-view+json": {
       "model_id": "5f2814fe294c4645a5232324813a4a68",
       "version_major": 2,
       "version_minor": 0
      },
      "text/plain": [
       "HBox(children=(FloatProgress(value=1.0, bar_style='info', max=1.0), HTML(value='')))"
      ]
     },
     "metadata": {},
     "output_type": "display_data"
    },
    {
     "name": "stdout",
     "output_type": "stream",
     "text": [
      "Extracting /Users/yuchen.zhang/.pytorch/F_MNIST_data/FashionMNIST/raw/train-labels-idx1-ubyte.gz to /Users/yuchen.zhang/.pytorch/F_MNIST_data/FashionMNIST/raw\n",
      "Downloading http://fashion-mnist.s3-website.eu-central-1.amazonaws.com/t10k-images-idx3-ubyte.gz to /Users/yuchen.zhang/.pytorch/F_MNIST_data/FashionMNIST/raw/t10k-images-idx3-ubyte.gz\n"
     ]
    },
    {
     "data": {
      "application/vnd.jupyter.widget-view+json": {
       "model_id": "e5194bc86bba45cb83b0db24692f718a",
       "version_major": 2,
       "version_minor": 0
      },
      "text/plain": [
       "HBox(children=(FloatProgress(value=1.0, bar_style='info', max=1.0), HTML(value='')))"
      ]
     },
     "metadata": {},
     "output_type": "display_data"
    },
    {
     "name": "stdout",
     "output_type": "stream",
     "text": [
      "\n",
      "Extracting /Users/yuchen.zhang/.pytorch/F_MNIST_data/FashionMNIST/raw/t10k-images-idx3-ubyte.gz to /Users/yuchen.zhang/.pytorch/F_MNIST_data/FashionMNIST/raw\n",
      "Downloading http://fashion-mnist.s3-website.eu-central-1.amazonaws.com/t10k-labels-idx1-ubyte.gz to /Users/yuchen.zhang/.pytorch/F_MNIST_data/FashionMNIST/raw/t10k-labels-idx1-ubyte.gz\n"
     ]
    },
    {
     "data": {
      "application/vnd.jupyter.widget-view+json": {
       "model_id": "da15b02b8cd6414fb9016a038d8356a4",
       "version_major": 2,
       "version_minor": 0
      },
      "text/plain": [
       "HBox(children=(FloatProgress(value=1.0, bar_style='info', max=1.0), HTML(value='')))"
      ]
     },
     "metadata": {},
     "output_type": "display_data"
    },
    {
     "name": "stdout",
     "output_type": "stream",
     "text": [
      "Extracting /Users/yuchen.zhang/.pytorch/F_MNIST_data/FashionMNIST/raw/t10k-labels-idx1-ubyte.gz to /Users/yuchen.zhang/.pytorch/F_MNIST_data/FashionMNIST/raw\n",
      "Processing...\n",
      "Done!\n"
     ]
    },
    {
     "name": "stderr",
     "output_type": "stream",
     "text": [
      "/Users/yuchen.zhang/opt/anaconda3/lib/python3.7/site-packages/torchvision/datasets/mnist.py:469: UserWarning: The given NumPy array is not writeable, and PyTorch does not support non-writeable tensors. This means you can write to the underlying (supposedly non-writeable) NumPy array using the tensor. You may want to copy the array to protect its data or make it writeable before converting it to a tensor. This type of warning will be suppressed for the rest of this program. (Triggered internally at  /Users/distiller/project/conda/conda-bld/pytorch_1595629430416/work/torch/csrc/utils/tensor_numpy.cpp:141.)\n",
      "  return torch.from_numpy(parsed.astype(m[2], copy=False)).view(*s)\n"
     ]
    }
   ],
   "source": [
    "# Set normalization mean std\n",
    "mean = 0.5\n",
    "std = 0.5\n",
    "\n",
    "\n",
    "transform = transforms.Compose([transforms.ToTensor(),\n",
    "                                transforms.Normalize((mean,), (std,))\n",
    "                                ])\n",
    "\n",
    "# Set batch size\n",
    "train_batch_size = 5\n",
    "test_batch_size = 5\n",
    "\n",
    "# Download and load the training data\n",
    "trainset = datasets.FashionMNIST('~/.pytorch/F_MNIST_data/', download=True, train=True, transform=transform)\n",
    "trainloader = torch.utils.data.DataLoader(trainset, batch_size=train_batch_size, shuffle=True)\n",
    "\n",
    "# Download and load the test data\n",
    "testset = datasets.FashionMNIST('~/.pytorch/F_MNIST_data/', download=True, train=False, transform=transform)\n",
    "testloader = torch.utils.data.DataLoader(testset, batch_size=test_batch_size, shuffle=True)\n",
    "\n",
    "\n",
    "# Classes\n",
    "classes = {       0 :'T-shirt/top',\n",
    "                  1 :'Trouser',\n",
    "                  2 :'Pullover',\n",
    "                  3 :'Dress',\n",
    "                  4 :'Coat',\n",
    "                  5 :'Sandal',\n",
    "                  6 :'Shirt',\n",
    "                  7 :'Sneaker',\n",
    "                  8 :'Bag',\n",
    "                  9 :'Ankle boot'}"
   ]
  },
  {
   "cell_type": "code",
   "execution_count": 7,
   "metadata": {},
   "outputs": [
    {
     "data": {
      "image/png": "[encoded data removed]",
      "text/plain": [
       "<Figure size 1200x900 with 1 Axes>"
      ]
     },
     "metadata": {
      "needs_background": "light"
     },
     "output_type": "display_data"
    }
   ],
   "source": [
    "import matplotlib.pyplot as plt\n",
    "from matplotlib.pyplot import figure\n",
    "import numpy as np\n",
    "\n",
    "# Functions to show an image\n",
    "\n",
    "def imshow(img):\n",
    "    img = img / 2 + 0.5     # unnormalize\n",
    "    npimg = img.numpy()\n",
    "    \n",
    "    figure(num=None, figsize=(8, 6), dpi=150, edgecolor='k')\n",
    "    plt.axis('off')\n",
    "    plt.imshow(np.transpose(npimg, (1, 2, 0)))\n",
    "\n",
    "\n",
    "# get some random training images\n",
    "dataiter = iter(trainloader)\n",
    "images, labels = dataiter.next()\n",
    "\n",
    "# show images\n",
    "imshow(torchvision.utils.make_grid(images))"
   ]
  },
  {
   "cell_type": "markdown",
   "metadata": {},
   "source": [
    "## Build CNN Model"
   ]
  },
  {
   "cell_type": "code",
   "execution_count": 20,
   "metadata": {},
   "outputs": [],
   "source": [
    "import torch.nn as nn\n",
    "import torch.nn.functional as F\n",
    "\n",
    "\n",
    "class Net(nn.Module):\n",
    "    def __init__(self, xdim, conv1_fksp, conv2_fksp, conv3_fksp, pool_ksp, fc1_out, fc2_out, dropout, batch_norm): \n",
    "        super(Net, self).__init__()\n",
    "        \n",
    "        self.conv1 = nn.Conv2d(in_channels=1, out_channels=conv1_fksp[\"filter\"], kernel_size=conv1_fksp[\"kernel\"], \n",
    "                               stride=conv1_fksp[\"stride\"], padding=conv1_fksp[\"padding\"])\n",
    "        self.conv2 = nn.Conv2d(in_channels=conv1_fksp[\"filter\"], out_channels=conv2_fksp[\"filter\"], kernel_size=conv2_fksp[\"kernel\"],\n",
    "                               stride=conv2_fksp[\"stride\"], padding=conv2_fksp[\"padding\"])\n",
    "        self.conv3 = nn.Conv2d(in_channels=conv2_fksp[\"filter\"], out_channels=conv3_fksp[\"filter\"], kernel_size=conv3_fksp[\"kernel\"],\n",
    "                               stride=conv3_fksp[\"stride\"], padding=conv3_fksp[\"padding\"])\n",
    "        self.pool = nn.AvgPool2d(pool_ksp[\"kernel\"], pool_ksp[\"stride\"], pool_ksp[\"padding\"])\n",
    "        self.conv1_bn = nn.BatchNorm2d(conv1_fksp[\"filter\"])\n",
    "        self.conv2_bn = nn.BatchNorm2d(conv2_fksp[\"filter\"])\n",
    "        self.conv3_bn = nn.BatchNorm2d(conv3_fksp[\"filter\"])\n",
    "        self.Dropout = nn.Dropout(dropout)\n",
    "\n",
    "        dconv1=int((xdim+2*conv1_fksp[\"padding\"]-(conv1_fksp[\"kernel\"]-conv1_fksp[\"stride\"]))/conv1_fksp[\"stride\"])\n",
    "        dpool1=int((dconv1+2*pool_ksp[\"padding\"]-(pool_ksp[\"kernel\"]-pool_ksp[\"stride\"]))/pool_ksp[\"stride\"])\n",
    "        dconv2=int((dpool1+2*conv2_fksp[\"padding\"]-(conv2_fksp[\"kernel\"]-conv2_fksp[\"stride\"]))/conv2_fksp[\"stride\"])\n",
    "        dpool2=int((dconv2+2*pool_ksp[\"padding\"]-(pool_ksp[\"kernel\"]-pool_ksp[\"stride\"]))/pool_ksp[\"stride\"])\n",
    "        dconv3=int((dpool2+2*conv3_fksp[\"padding\"]-(conv3_fksp[\"kernel\"]-conv3_fksp[\"stride\"]))/conv3_fksp[\"stride\"])\n",
    "        dpool3=int((dconv3+2*pool_ksp[\"padding\"]-(pool_ksp[\"kernel\"]-pool_ksp[\"stride\"]))/pool_ksp[\"stride\"])\n",
    "        self.FCinput = conv3_fksp[\"filter\"] * dpool3 * dpool3\n",
    "\n",
    "        self.batch_norm = batch_norm\n",
    "        self.fc1 = nn.Linear(self.FCinput, fc1_out)\n",
    "        self.fc2 = nn.Linear(fc1_out, fc2_out)\n",
    "\n",
    "    def forward(self, x):\n",
    "        x = self.pool(F.relu(self.conv1(x)))\n",
    "        x = self.conv1_bn(x) if self.batch_norm == True else x\n",
    "        x = self.pool(F.relu(self.conv2(x))) \n",
    "        x = self.conv2_bn(x) if self.batch_norm == True else x\n",
    "        x = self.pool(F.relu(self.conv3(x)))\n",
    "        x = self.conv3_bn(x) if self.batch_norm == True else x\n",
    "        x = self.Dropout(x)\n",
    "\n",
    "        x = x.view(-1, self.FCinput)\n",
    "        x = F.relu(self.fc1(x))\n",
    "        #x = F.softmax(self.fc2(x),1) #dont need softmax here again\n",
    "        return x\n"
   ]
  },
  {
   "cell_type": "markdown",
   "metadata": {},
   "source": [
    "### Initialize models"
   ]
  },
  {
   "cell_type": "code",
   "execution_count": 21,
   "metadata": {},
   "outputs": [],
   "source": [
    "# Create inputs\n",
    "\n",
    "# Input dimension\n",
    "xdim = trainset[0][0].shape[1]\n",
    "\n",
    "# Parameters (fixed)\n",
    "conv1_fksp_base_ls = [32,5,1,2]\n",
    "conv2_fksp_base_ls = [32,5,1,2]\n",
    "conv3_fksp_base_ls = [64,5,1,2]\n",
    "fc1_out_base = 64\n",
    "fc2_out_base =10\n",
    "\n",
    "def createConvDic(ls):\n",
    "    dic = {}\n",
    "    dic[\"filter\"] = int(ls[0])\n",
    "    dic[\"kernel\"] = int(ls[1])\n",
    "    dic[\"stride\"] = int(ls[2])\n",
    "    dic[\"padding\"] = int(ls[3])\n",
    "    return dic\n",
    "\n",
    "conv1_fksp_base = createConvDic(conv1_fksp_base_ls)\n",
    "conv2_fksp_base = createConvDic(conv2_fksp_base_ls)\n",
    "conv3_fksp_base = createConvDic(conv3_fksp_base_ls)\n",
    "\n",
    "\n",
    "# Parameters (tuning)\n",
    "pool_ksp_base1_ls = [2,2,0]\n",
    "pool_ksp_base2_ls = [4,3,1]\n",
    "dropout = [0.1,0.3,0.5]\n",
    "batch_norm = [True,False]\n",
    "\n",
    "def createPoolDic(ls):\n",
    "    dic = {}\n",
    "    dic[\"kernel\"] = int(ls[0])\n",
    "    dic[\"stride\"] = int(ls[1])\n",
    "    dic[\"padding\"] = int(ls[2])\n",
    "    return dic\n",
    "\n",
    "pool_ksp_base1 = createPoolDic(pool_ksp_base1_ls)\n",
    "pool_ksp_base2 = createPoolDic(pool_ksp_base2_ls)"
   ]
  },
  {
   "cell_type": "code",
   "execution_count": 22,
   "metadata": {},
   "outputs": [
    {
     "data": {
      "text/plain": [
       "12"
      ]
     },
     "execution_count": 22,
     "metadata": {},
     "output_type": "execute_result"
    }
   ],
   "source": [
    "# Save all 12 nets\n",
    "nets_init =[]\n",
    "tuning_params = []\n",
    "for i, x in enumerate([pool_ksp_base1, pool_ksp_base2]):\n",
    "    for j, y in enumerate(dropout):\n",
    "        for k, z in enumerate(batch_norm):\n",
    "            tuning_params.append([x,y,z])\n",
    "            exec(\"nets_init.append(Net(xdim = xdim, conv1_fksp = conv1_fksp_base, conv2_fksp = conv2_fksp_base, conv3_fksp = conv3_fksp_base, pool_ksp = x, fc1_out = fc1_out_base, fc2_out = fc2_out_base, dropout=y, batch_norm=z))\")\n",
    "\n",
    "len(nets_init)"
   ]
  },
  {
   "cell_type": "code",
   "execution_count": 23,
   "metadata": {},
   "outputs": [],
   "source": [
    "# Preserve the initialization\n",
    "nets = nets_init"
   ]
  },
  {
   "cell_type": "markdown",
   "metadata": {},
   "source": [
    "## Train Models"
   ]
  },
  {
   "cell_type": "code",
   "execution_count": 28,
   "metadata": {},
   "outputs": [],
   "source": [
    "import torch.optim as optim\n",
    "\n",
    "def train_CNN_MNIST(model, model_name, epochNum):\n",
    "    \n",
    "    # Train model\n",
    "    model.train()\n",
    "    \n",
    "    # Create logger and prepare for logging\n",
    "    logdir = os.path.join(\"logs\", model_name, datetime.datetime.now().strftime(\"%Y%m%d-%H%M%S\"))\n",
    "    logger = Logger(logdir)\n",
    "    overall_step = 0\n",
    "    \n",
    "    # initialize criterion and optimizer \n",
    "    criterion = nn.CrossEntropyLoss()\n",
    "    optimizer = optim.SGD(model.parameters(), lr=0.001, momentum=0.9) #momentum=0.9\n",
    "\n",
    "    # Set number of epochs\n",
    "    epochs = epochNum\n",
    "\n",
    "    # Start looping over epochs\n",
    "    for epoch in range(epochs):  # loop over the dataset multiple times\n",
    "        running_loss = 0\n",
    "        epoch_loss = 0\n",
    "        total = 0\n",
    "        correct = 0\n",
    "        loss_200 = []\n",
    "        accuracy_200 = []\n",
    "        \n",
    "        # Start looping for all batches\n",
    "        for i, data in enumerate(trainloader, 0):\n",
    "            \n",
    "            # get the inputs\n",
    "            inputs, labels = data\n",
    "\n",
    "            # zero the parameter gradients\n",
    "            optimizer.zero_grad()\n",
    "\n",
    "            # forward + backward + optimize\n",
    "            outputs = model(inputs)\n",
    "            loss = criterion(outputs, labels) #forward\n",
    "            loss.backward() #backward\n",
    "            optimizer.step() #optimize\n",
    "\n",
    "            # pred = torch.nn.functional.softmax(pred, dim=1)\n",
    "            _, predicted = torch.max(outputs.data, 1)\n",
    "            correct += predicted.eq(labels.reshape(len(labels),)).sum() \n",
    "            total += float(len(labels))\n",
    "            accuracy = correct / total\n",
    "\n",
    "            # print statistics and save loss and accuracy for every 200 batches\n",
    "            running_loss += loss.item()\n",
    "            epoch_loss += loss.item()\n",
    "        \n",
    "            if i % 200 == 199:    # print every 200 mini-batches\n",
    "                \n",
    "                # print('Epoch: %d, Batch: %5d, loss: %.3f' %\n",
    "                #       (epoch + 1, i + 1, running_loss / 200))\n",
    "                \n",
    "                running_loss = 0.0\n",
    "\n",
    "                loss_200.append(loss.item())\n",
    "                accuracy_200.append(accuracy.item())\n",
    "\n",
    "                info = {'loss' : loss.item(), 'accuracy': accuracy.item()}\n",
    "                for tag, value in info.items():\n",
    "                    overall_step+=1\n",
    "                    logger.scalar_summary(tag, value, overall_step)\n",
    "        \n",
    "        # Print avg loss for every epoch\n",
    "        print('Epoch ',epoch,'; Epoch Avg Loss: ', epoch_loss/len(trainloader), '; Loss Item: ', loss.item()) #\n",
    "    \n",
    "    \n",
    "    # Save model, loss and accuracy for every 200 batches\n",
    "    PATH='./model_results/'+model_name+'.pt'\n",
    "    torch.save({\"state\":model.state_dict(),\n",
    "                \"loss_200\":loss_200,\n",
    "                \"accuracy_200\":accuracy_200}, PATH)\n",
    "    \n",
    "    # Finish Msg\n",
    "    print('Finished Training')"
   ]
  },
  {
   "cell_type": "markdown",
   "metadata": {},
   "source": [
    "Perform Training and Parameter Tuning"
   ]
  },
  {
   "cell_type": "code",
   "execution_count": 29,
   "metadata": {},
   "outputs": [
    {
     "name": "stdout",
     "output_type": "stream",
     "text": [
      "Epoch  0 ; Epoch Avg Loss:  0.4257061731192128 ; Loss Item:  0.008327875286340714\n",
      "Epoch  1 ; Epoch Avg Loss:  0.2980645851070318 ; Loss Item:  0.030627692118287086\n",
      "Epoch  2 ; Epoch Avg Loss:  0.2597943559924582 ; Loss Item:  0.15832750499248505\n",
      "Epoch  3 ; Epoch Avg Loss:  0.2348552935316875 ; Loss Item:  0.005805750377476215\n",
      "Epoch  4 ; Epoch Avg Loss:  0.21492399987222233 ; Loss Item:  0.17290128767490387\n",
      "Epoch  5 ; Epoch Avg Loss:  0.19828825651185647 ; Loss Item:  0.15373003482818604\n",
      "Epoch  6 ; Epoch Avg Loss:  0.18268045453888831 ; Loss Item:  0.26484328508377075\n",
      "Epoch  7 ; Epoch Avg Loss:  0.17098416325347407 ; Loss Item:  0.05962168052792549\n",
      "Epoch  8 ; Epoch Avg Loss:  0.16146739040640615 ; Loss Item:  0.7346031665802002\n",
      "Epoch  9 ; Epoch Avg Loss:  0.14960821227911902 ; Loss Item:  5.430599412648007e-05\n",
      "Finished Training\n"
     ]
    }
   ],
   "source": [
    "train_CNN_MNIST(nets[0], \"model0\", 10)"
   ]
  },
  {
   "cell_type": "code",
   "execution_count": 30,
   "metadata": {},
   "outputs": [
    {
     "data": {
      "text/html": [
       "\n",
       "      <iframe id=\"tensorboard-frame-6521f203bc4aa162\" width=\"100%\" height=\"800\" frameborder=\"0\">\n",
       "      </iframe>\n",
       "      <script>\n",
       "        (function() {\n",
       "          const frame = document.getElementById(\"tensorboard-frame-6521f203bc4aa162\");\n",
       "          const url = new URL(\"/\", window.location);\n",
       "          const port = 6006;\n",
       "          if (port) {\n",
       "            url.port = port;\n",
       "          }\n",
       "          frame.src = url;\n",
       "        })();\n",
       "      </script>\n",
       "    "
      ],
      "text/plain": [
       "<IPython.core.display.HTML object>"
      ]
     },
     "metadata": {},
     "output_type": "display_data"
    }
   ],
   "source": [
    "%load_ext tensorboard\n",
    "%tensorboard --logdir logs"
   ]
  },
  {
   "cell_type": "markdown",
   "metadata": {},
   "source": [
    "## Test Accuracy"
   ]
  },
  {
   "cell_type": "code",
   "execution_count": 31,
   "metadata": {},
   "outputs": [],
   "source": [
    "def test_CNN_MNIST(model):\n",
    "    model.eval()\n",
    "    correct = 0\n",
    "    total = 0\n",
    "    with torch.no_grad():\n",
    "        for data in testloader:\n",
    "            images, labels = data\n",
    "            outputs = model(images)\n",
    "            _, predicted = torch.max(outputs.data, 1)\n",
    "            total += labels.size(0)\n",
    "            correct += (predicted == labels).sum().item()\n",
    "\n",
    "    #TODO : Report this accuracy in your report.\n",
    "\n",
    "    print('Accuracy of the network on the 10000 test images: %d %%' % (\n",
    "        100 * correct / total))"
   ]
  },
  {
   "cell_type": "code",
   "execution_count": 32,
   "metadata": {},
   "outputs": [
    {
     "name": "stdout",
     "output_type": "stream",
     "text": [
      "Accuracy of the network on the 10000 test images: 91 %\n"
     ]
    }
   ],
   "source": [
    "test_CNN_MNIST(nets[0])"
   ]
  },
  {
   "cell_type": "markdown",
   "metadata": {},
   "source": [
    "## Class Accuracy"
   ]
  },
  {
   "cell_type": "code",
   "execution_count": 35,
   "metadata": {},
   "outputs": [],
   "source": [
    "def acc_per_class(model):   \n",
    "    model.eval()\n",
    "    class_correct = list(0. for i in range(10))\n",
    "    class_total = list(0. for i in range(10))\n",
    "    with torch.no_grad():\n",
    "        for data in testloader:\n",
    "            images, labels = data\n",
    "            outputs = model(images)\n",
    "            _, predicted = torch.max(outputs, 1)\n",
    "            c = (predicted == labels).squeeze()\n",
    "            for i in range(4):\n",
    "                label = labels[i]\n",
    "                class_correct[label] += c[i].item()\n",
    "                class_total[label] += 1\n",
    "\n",
    "\n",
    "    for i in range(10):\n",
    "        print('Accuracy of %5s : %2d %%' % (\n",
    "            classes[i], 100 * class_correct[i] / class_total[i]))"
   ]
  },
  {
   "cell_type": "code",
   "execution_count": 36,
   "metadata": {},
   "outputs": [
    {
     "name": "stdout",
     "output_type": "stream",
     "text": [
      "Accuracy of T-shirt/top : 83 %\n",
      "Accuracy of Trouser : 97 %\n",
      "Accuracy of Pullover : 87 %\n",
      "Accuracy of Dress : 89 %\n",
      "Accuracy of  Coat : 81 %\n",
      "Accuracy of Sandal : 98 %\n",
      "Accuracy of Shirt : 78 %\n",
      "Accuracy of Sneaker : 94 %\n",
      "Accuracy of   Bag : 98 %\n",
      "Accuracy of Ankle boot : 97 %\n"
     ]
    }
   ],
   "source": [
    "acc_per_class(nets[0])"
   ]
  }
 ],
 "metadata": {
  "kernelspec": {
   "display_name": "Python 3",
   "language": "python",
   "name": "python3"
  },
  "language_info": {
   "codemirror_mode": {
    "name": "ipython",
    "version": 3
   },
   "file_extension": ".py",
   "mimetype": "text/x-python",
   "name": "python",
   "nbconvert_exporter": "python",
   "pygments_lexer": "ipython3",
   "version": "3.7.6"
  }
 },
 "nbformat": 4,
 "nbformat_minor": 4
}
